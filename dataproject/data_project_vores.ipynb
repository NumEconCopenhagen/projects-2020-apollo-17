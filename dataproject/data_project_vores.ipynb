{
 "cells": [
  {
   "cell_type": "markdown",
   "metadata": {},
   "source": [
    "# Structure\n",
    "\n",
    "- Imports\n",
    "- Read and clean data: Load, drop irrelevant rows + columns, show data (head())\n",
    "- Explore datasets: Static and interactive plots for each dataset\n",
    "- Merge datasets\n",
    "- Analysis: Summary statistics\n",
    "- Conclusion: \n",
    "\n",
    "\n",
    "# Data\n",
    "\n",
    "Indkomst vs. middellevetid i kommunerne\n",
    "\n",
    "# Figurer\n",
    "- Interaktive figurer på kommuneniveau\n",
    "- Scatter plot af middellevetid vs. gennemsnitlig indkomst i kommunerne\n",
    "- Husk at sortere regioner og landsdele fra"
   ]
  },
  {
   "cell_type": "markdown",
   "metadata": {},
   "source": [
    "Indkomst:\n",
    "https://www.statbank.dk/statbank5a/default.asp?w=1920\n",
    "\n",
    "\n",
    "Livskvalitet:\n",
    "https://www.statbank.dk/statbank5a/SelectVarVal/Define.asp?MainTable=LIVO1&PLanguage=0&PXSId=0&wsid=cftree"
   ]
  },
  {
   "cell_type": "markdown",
   "metadata": {},
   "source": [
    "**Import packages**"
   ]
  },
  {
   "cell_type": "code",
   "execution_count": 1,
   "metadata": {},
   "outputs": [],
   "source": [
    "import pandas as pd\n",
    "import pydst\n",
    "import matplotlib.pyplot as plt\n",
    "plt.style.use('seaborn-whitegrid')\n",
    "from matplotlib_venn import venn2\n",
    "import ipywidgets as widgets\n",
    "import project1_functions"
   ]
  },
  {
   "cell_type": "markdown",
   "metadata": {},
   "source": [
    "## Read data from DST"
   ]
  },
  {
   "cell_type": "code",
   "execution_count": 2,
   "metadata": {
    "scrolled": true
   },
   "outputs": [],
   "source": [
    "Dst = pydst.Dst(lang='en')\n",
    "\n",
    "# a. Income dataset\n",
    "income = Dst.get_data(table_id='INDKP105', variables={'OMRÅDE':['*'], 'ENHED':['118'], 'KOEN':['MOK'], 'ALDER1':['00'],\n",
    "                                                     'INDKINTB':['000'], 'Tid':['*']})\n",
    "\n",
    "# b. Life expectancy dataset\n",
    "life = Dst.get_data(table_id='LIVO1', variables={'AKTP':['O1'], 'OMRÅDE':['*'], 'Tid':['*']})"
   ]
  },
  {
   "cell_type": "code",
   "execution_count": 3,
   "metadata": {
    "scrolled": true
   },
   "outputs": [
    {
     "data": {
      "text/html": [
       "<div>\n",
       "<style scoped>\n",
       "    .dataframe tbody tr th:only-of-type {\n",
       "        vertical-align: middle;\n",
       "    }\n",
       "\n",
       "    .dataframe tbody tr th {\n",
       "        vertical-align: top;\n",
       "    }\n",
       "\n",
       "    .dataframe thead th {\n",
       "        text-align: right;\n",
       "    }\n",
       "</style>\n",
       "<table border=\"1\" class=\"dataframe\">\n",
       "  <thead>\n",
       "    <tr style=\"text-align: right;\">\n",
       "      <th></th>\n",
       "      <th>OMRÅDE</th>\n",
       "      <th>ENHED</th>\n",
       "      <th>KOEN</th>\n",
       "      <th>ALDER1</th>\n",
       "      <th>INDKINTB</th>\n",
       "      <th>TID</th>\n",
       "      <th>INDHOLD</th>\n",
       "    </tr>\n",
       "  </thead>\n",
       "  <tbody>\n",
       "    <tr>\n",
       "      <td>0</td>\n",
       "      <td>Ærø</td>\n",
       "      <td>Average income for persons in the group (DKK)</td>\n",
       "      <td>Men and women, total</td>\n",
       "      <td>Total</td>\n",
       "      <td>All</td>\n",
       "      <td>2013</td>\n",
       "      <td>244336</td>\n",
       "    </tr>\n",
       "    <tr>\n",
       "      <td>1</td>\n",
       "      <td>Herning</td>\n",
       "      <td>Average income for persons in the group (DKK)</td>\n",
       "      <td>Men and women, total</td>\n",
       "      <td>Total</td>\n",
       "      <td>All</td>\n",
       "      <td>2013</td>\n",
       "      <td>279723</td>\n",
       "    </tr>\n",
       "    <tr>\n",
       "      <td>2</td>\n",
       "      <td>Frederikshavn</td>\n",
       "      <td>Average income for persons in the group (DKK)</td>\n",
       "      <td>Men and women, total</td>\n",
       "      <td>Total</td>\n",
       "      <td>All</td>\n",
       "      <td>2013</td>\n",
       "      <td>272244</td>\n",
       "    </tr>\n",
       "    <tr>\n",
       "      <td>3</td>\n",
       "      <td>Skive</td>\n",
       "      <td>Average income for persons in the group (DKK)</td>\n",
       "      <td>Men and women, total</td>\n",
       "      <td>Total</td>\n",
       "      <td>All</td>\n",
       "      <td>2013</td>\n",
       "      <td>265916</td>\n",
       "    </tr>\n",
       "    <tr>\n",
       "      <td>4</td>\n",
       "      <td>Province Vestjylland</td>\n",
       "      <td>Average income for persons in the group (DKK)</td>\n",
       "      <td>Men and women, total</td>\n",
       "      <td>Total</td>\n",
       "      <td>All</td>\n",
       "      <td>2013</td>\n",
       "      <td>279867</td>\n",
       "    </tr>\n",
       "  </tbody>\n",
       "</table>\n",
       "</div>"
      ],
      "text/plain": [
       "                 OMRÅDE                                          ENHED  \\\n",
       "0                   Ærø  Average income for persons in the group (DKK)   \n",
       "1               Herning  Average income for persons in the group (DKK)   \n",
       "2         Frederikshavn  Average income for persons in the group (DKK)   \n",
       "3                 Skive  Average income for persons in the group (DKK)   \n",
       "4  Province Vestjylland  Average income for persons in the group (DKK)   \n",
       "\n",
       "                   KOEN ALDER1 INDKINTB   TID  INDHOLD  \n",
       "0  Men and women, total  Total      All  2013   244336  \n",
       "1  Men and women, total  Total      All  2013   279723  \n",
       "2  Men and women, total  Total      All  2013   272244  \n",
       "3  Men and women, total  Total      All  2013   265916  \n",
       "4  Men and women, total  Total      All  2013   279867  "
      ]
     },
     "execution_count": 3,
     "metadata": {},
     "output_type": "execute_result"
    }
   ],
   "source": [
    "income.head()"
   ]
  },
  {
   "cell_type": "code",
   "execution_count": 4,
   "metadata": {},
   "outputs": [
    {
     "data": {
      "text/html": [
       "<div>\n",
       "<style scoped>\n",
       "    .dataframe tbody tr th:only-of-type {\n",
       "        vertical-align: middle;\n",
       "    }\n",
       "\n",
       "    .dataframe tbody tr th {\n",
       "        vertical-align: top;\n",
       "    }\n",
       "\n",
       "    .dataframe thead th {\n",
       "        text-align: right;\n",
       "    }\n",
       "</style>\n",
       "<table border=\"1\" class=\"dataframe\">\n",
       "  <thead>\n",
       "    <tr style=\"text-align: right;\">\n",
       "      <th></th>\n",
       "      <th>AKTP</th>\n",
       "      <th>OMRÅDE</th>\n",
       "      <th>TID</th>\n",
       "      <th>INDHOLD</th>\n",
       "    </tr>\n",
       "  </thead>\n",
       "  <tbody>\n",
       "    <tr>\n",
       "      <td>0</td>\n",
       "      <td>Life expectancy (years)</td>\n",
       "      <td>All Denmark</td>\n",
       "      <td>2008</td>\n",
       "      <td>78.5</td>\n",
       "    </tr>\n",
       "    <tr>\n",
       "      <td>1</td>\n",
       "      <td>Life expectancy (years)</td>\n",
       "      <td>Region Nordjylland</td>\n",
       "      <td>2008</td>\n",
       "      <td>78.5</td>\n",
       "    </tr>\n",
       "    <tr>\n",
       "      <td>2</td>\n",
       "      <td>Life expectancy (years)</td>\n",
       "      <td>Region Midtjylland</td>\n",
       "      <td>2008</td>\n",
       "      <td>79.0</td>\n",
       "    </tr>\n",
       "    <tr>\n",
       "      <td>3</td>\n",
       "      <td>Life expectancy (years)</td>\n",
       "      <td>Region Syddanmark</td>\n",
       "      <td>2008</td>\n",
       "      <td>78.8</td>\n",
       "    </tr>\n",
       "    <tr>\n",
       "      <td>4</td>\n",
       "      <td>Life expectancy (years)</td>\n",
       "      <td>Region Hovedstaden</td>\n",
       "      <td>2008</td>\n",
       "      <td>78.2</td>\n",
       "    </tr>\n",
       "  </tbody>\n",
       "</table>\n",
       "</div>"
      ],
      "text/plain": [
       "                      AKTP              OMRÅDE   TID INDHOLD\n",
       "0  Life expectancy (years)         All Denmark  2008    78.5\n",
       "1  Life expectancy (years)  Region Nordjylland  2008    78.5\n",
       "2  Life expectancy (years)  Region Midtjylland  2008    79.0\n",
       "3  Life expectancy (years)   Region Syddanmark  2008    78.8\n",
       "4  Life expectancy (years)  Region Hovedstaden  2008    78.2"
      ]
     },
     "execution_count": 4,
     "metadata": {},
     "output_type": "execute_result"
    }
   ],
   "source": [
    "life.head()"
   ]
  },
  {
   "cell_type": "markdown",
   "metadata": {},
   "source": [
    "## Clean data"
   ]
  },
  {
   "cell_type": "markdown",
   "metadata": {},
   "source": [
    "**Rename variables**"
   ]
  },
  {
   "cell_type": "code",
   "execution_count": 5,
   "metadata": {},
   "outputs": [],
   "source": [
    "# Make dictionary for renaming columns\n",
    "# a. Income dataset\n",
    "columns_dict = {}\n",
    "columns_dict['OMRÅDE'] = 'municipality'\n",
    "columns_dict['INDHOLD'] = 'income'\n",
    "columns_dict['TID'] = 'year'\n",
    "\n",
    "income.rename(columns = columns_dict, inplace = True)\n",
    "\n",
    "# b. Life expectancy dataset\n",
    "columns_dict_life = {}\n",
    "columns_dict_life['OMRÅDE'] = 'municipality'\n",
    "columns_dict_life['INDHOLD'] = 'life expectancy'\n",
    "columns_dict_life['TID'] = 'year'\n",
    "\n",
    "life.rename(columns = columns_dict_life, inplace = True)"
   ]
  },
  {
   "cell_type": "markdown",
   "metadata": {},
   "source": [
    "**Drop irrelevant variables**"
   ]
  },
  {
   "cell_type": "code",
   "execution_count": 6,
   "metadata": {},
   "outputs": [],
   "source": [
    "income.drop(['ENHED', 'KOEN', 'ALDER1', 'INDKINTB'], axis=1, inplace=True)\n",
    "life.drop(['AKTP'], axis=1, inplace=True)"
   ]
  },
  {
   "cell_type": "markdown",
   "metadata": {},
   "source": [
    "**Drop irrelevant observations**"
   ]
  },
  {
   "cell_type": "code",
   "execution_count": 7,
   "metadata": {
    "scrolled": true
   },
   "outputs": [],
   "source": [
    "# Drop all obsevations that is for regions, provinces, or all of Denmark\n",
    "# a. Income dataset\n",
    "I = income.municipality.str.contains('Region')\n",
    "I |= income.municipality.str.contains('Province')\n",
    "income = income.loc[I == False] \n",
    "\n",
    "# b. Life expectancy dataset\n",
    "I = life.municipality.str.contains('Region')\n",
    "I |= life.municipality.str.contains('Province')\n",
    "life = life.loc[I == False] "
   ]
  },
  {
   "cell_type": "markdown",
   "metadata": {},
   "source": [
    "## Explore the two datasets"
   ]
  },
  {
   "cell_type": "markdown",
   "metadata": {},
   "source": [
    "**Observations in the two datasets**"
   ]
  },
  {
   "cell_type": "markdown",
   "metadata": {},
   "source": [
    "From the output below, we see that the two datasets have the same number of municipalities. Furthermore, we see that the income dataset has data from the years 1987-2018, where the life expectancy dataset only has data from the years 2008-2018. I.e. the life expectancy dataset is a subset of the income dataset, which is illustrated in the figure plotted below. "
   ]
  },
  {
   "cell_type": "code",
   "execution_count": 8,
   "metadata": {},
   "outputs": [
    {
     "name": "stdout",
     "output_type": "stream",
     "text": [
      "Years in income dataset: [1987 1988 1989 1990 1991 1992 1993 1994 1995 1996 1997 1998 1999 2000\n",
      " 2001 2002 2003 2004 2005 2006 2007 2008 2009 2010 2011 2012 2013 2014\n",
      " 2015 2016 2017 2018]\n",
      "Municipalities in income dataset = 99\n",
      "Years in life expectancy dataset: [2008 2009 2010 2011 2012 2013 2014 2015 2016 2017 2018]\n",
      "Municipalities in life expectancy dataset = 99\n"
     ]
    },
    {
     "data": {
      "image/png": "[encoded data removed]",
      "text/plain": [
       "<Figure size 432x288 with 1 Axes>"
      ]
     },
     "metadata": {},
     "output_type": "display_data"
    }
   ],
   "source": [
    "# a. Sort values by municipality and then year\n",
    "income = income.sort_values(['municipality','year'])\n",
    "life = life.sort_values(['municipality','year'])\n",
    "\n",
    "# b. Print number of municipalities and years for each dataset\n",
    "print(f'Years in income dataset: {income.year.unique()}')\n",
    "print(f'Municipalities in income dataset = {len(income.municipality.unique())}')\n",
    "print(f'Years in life expectancy dataset: {life.year.unique()}')\n",
    "print(f'Municipalities in life expectancy dataset = {len(life.municipality.unique())}')\n",
    "\n",
    "# c. Plot the overlap of datasets\n",
    "plt.figure()\n",
    "plt.title('Figure 1 Overlap between the Two Datasets')\n",
    "v = venn2(subsets = (4, 0, 10), set_labels = ('Income data', ''), set_colors=('orange', 'blue'))\n",
    "v.get_label_by_id('100').set_text('1987-2007')\n",
    "v.get_label_by_id('010').set_text('')\n",
    "v.get_label_by_id('110').set_text('Life expectancy data')\n",
    "plt.show()"
   ]
  },
  {
   "cell_type": "markdown",
   "metadata": {},
   "source": [
    "**Plots of the two datasets**"
   ]
  },
  {
   "cell_type": "markdown",
   "metadata": {},
   "source": [
    "The figures below show the development in the average income and life expectancy in all of Denmark over the years we have data for. We see that both the income and the life expectancy have been increasing over the periods. The average income had a small drop around 2008-2009, which was expected as this is the years of the financial crisis. The average life expectancy had a sharp increase in 2014, which we are not able to explain. "
   ]
  },
  {
   "cell_type": "code",
   "execution_count": 9,
   "metadata": {
    "scrolled": false
   },
   "outputs": [
    {
     "data": {
      "image/png": "[encoded data removed]",
      "text/plain": [
       "<Figure size 1080x504 with 2 Axes>"
      ]
     },
     "metadata": {
      "needs_background": "light"
     },
     "output_type": "display_data"
    }
   ],
   "source": [
    "# a. Start static figure with two subplots\n",
    "f = plt.figure(figsize=(15,7))\n",
    "ax1 = f.add_subplot(121)\n",
    "ax2 = f.add_subplot(122)\n",
    "\n",
    "f.suptitle('Figure 2 Development in Average Income and Life Expectancy')\n",
    "f.subplots_adjust(wspace=0.5, hspace=1)\n",
    "\n",
    "# b. Add first subplot of average income \n",
    "I = income['municipality']=='All Denmark'\n",
    "avg_income = income.loc[I, 'income']\n",
    "avg_income = avg_income.astype('float')\n",
    "year = income.loc[I, 'year']\n",
    "year = year.astype('float')\n",
    "\n",
    "ax1.plot(year, avg_income)\n",
    "ax1.legend('')\n",
    "ax1.set_xlabel('Year')\n",
    "ax1.set_ylabel('Average income')\n",
    "ax1.set_title('Development in the average \\n income before taxation in Denmark')\n",
    "\n",
    "# c. Add second subplot of average life expectancy\n",
    "I = life['municipality']=='All Denmark'\n",
    "year = life.loc[I, 'year']\n",
    "year = year.astype('float')\n",
    "avg_life = life.loc[I, 'life expectancy']\n",
    "avg_life = avg_life.astype('float')\n",
    "\n",
    "ax2.plot(year, avg_life)\n",
    "ax2.legend('')\n",
    "ax2.set_xlabel('Year')\n",
    "ax2.set_ylabel('Average life expectancy in years')\n",
    "ax2.set_title('Development in the average \\n life expectancy in Denmark')\n",
    "\n",
    "# d. Show figure\n",
    "plt.show()"
   ]
  },
  {
   "cell_type": "code",
   "execution_count": 10,
   "metadata": {},
   "outputs": [],
   "source": [
    "# e. Delete observations for all of Denmark, as we are not using them in the assignment from now on\n",
    "I = income.municipality.str.contains('All Denmark')\n",
    "income = income.loc[I == False] \n",
    "\n",
    "I = life.municipality.str.contains('All Denmark')\n",
    "life = life.loc[I == False] "
   ]
  },
  {
   "cell_type": "code",
   "execution_count": 11,
   "metadata": {},
   "outputs": [
    {
     "data": {
      "text/html": [
       "<div>\n",
       "<style scoped>\n",
       "    .dataframe tbody tr th:only-of-type {\n",
       "        vertical-align: middle;\n",
       "    }\n",
       "\n",
       "    .dataframe tbody tr th {\n",
       "        vertical-align: top;\n",
       "    }\n",
       "\n",
       "    .dataframe thead th {\n",
       "        text-align: right;\n",
       "    }\n",
       "</style>\n",
       "<table border=\"1\" class=\"dataframe\">\n",
       "  <thead>\n",
       "    <tr style=\"text-align: right;\">\n",
       "      <th></th>\n",
       "      <th>municipality</th>\n",
       "      <th>year</th>\n",
       "      <th>income</th>\n",
       "    </tr>\n",
       "  </thead>\n",
       "  <tbody>\n",
       "    <tr>\n",
       "      <td>3097</td>\n",
       "      <td>Aabenraa</td>\n",
       "      <td>1987</td>\n",
       "      <td>115880</td>\n",
       "    </tr>\n",
       "    <tr>\n",
       "      <td>2907</td>\n",
       "      <td>Aabenraa</td>\n",
       "      <td>1988</td>\n",
       "      <td>122373</td>\n",
       "    </tr>\n",
       "    <tr>\n",
       "      <td>2731</td>\n",
       "      <td>Aabenraa</td>\n",
       "      <td>1989</td>\n",
       "      <td>128413</td>\n",
       "    </tr>\n",
       "    <tr>\n",
       "      <td>2727</td>\n",
       "      <td>Aabenraa</td>\n",
       "      <td>1990</td>\n",
       "      <td>132820</td>\n",
       "    </tr>\n",
       "    <tr>\n",
       "      <td>2596</td>\n",
       "      <td>Aabenraa</td>\n",
       "      <td>1991</td>\n",
       "      <td>139228</td>\n",
       "    </tr>\n",
       "    <tr>\n",
       "      <td>...</td>\n",
       "      <td>...</td>\n",
       "      <td>...</td>\n",
       "      <td>...</td>\n",
       "    </tr>\n",
       "    <tr>\n",
       "      <td>1322</td>\n",
       "      <td>Ærø</td>\n",
       "      <td>2014</td>\n",
       "      <td>253021</td>\n",
       "    </tr>\n",
       "    <tr>\n",
       "      <td>3064</td>\n",
       "      <td>Ærø</td>\n",
       "      <td>2015</td>\n",
       "      <td>254644</td>\n",
       "    </tr>\n",
       "    <tr>\n",
       "      <td>3166</td>\n",
       "      <td>Ærø</td>\n",
       "      <td>2016</td>\n",
       "      <td>262654</td>\n",
       "    </tr>\n",
       "    <tr>\n",
       "      <td>3281</td>\n",
       "      <td>Ærø</td>\n",
       "      <td>2017</td>\n",
       "      <td>265233</td>\n",
       "    </tr>\n",
       "    <tr>\n",
       "      <td>3502</td>\n",
       "      <td>Ærø</td>\n",
       "      <td>2018</td>\n",
       "      <td>268783</td>\n",
       "    </tr>\n",
       "  </tbody>\n",
       "</table>\n",
       "<p>3136 rows × 3 columns</p>\n",
       "</div>"
      ],
      "text/plain": [
       "     municipality  year  income\n",
       "3097     Aabenraa  1987  115880\n",
       "2907     Aabenraa  1988  122373\n",
       "2731     Aabenraa  1989  128413\n",
       "2727     Aabenraa  1990  132820\n",
       "2596     Aabenraa  1991  139228\n",
       "...           ...   ...     ...\n",
       "1322          Ærø  2014  253021\n",
       "3064          Ærø  2015  254644\n",
       "3166          Ærø  2016  262654\n",
       "3281          Ærø  2017  265233\n",
       "3502          Ærø  2018  268783\n",
       "\n",
       "[3136 rows x 3 columns]"
      ]
     },
     "execution_count": 11,
     "metadata": {},
     "output_type": "execute_result"
    }
   ],
   "source": [
    "income"
   ]
  },
  {
   "cell_type": "code",
   "execution_count": 12,
   "metadata": {
    "scrolled": true
   },
   "outputs": [
    {
     "data": {
      "application/vnd.jupyter.widget-view+json": {
       "model_id": "188fcb7f12eb41b5a912eb05892c6d4c",
       "version_major": 2,
       "version_minor": 0
      },
      "text/plain": [
       "interactive(children=(Dropdown(description='Municipality', options=('Aabenraa', 'Aalborg', 'Aarhus', 'Albertsl…"
      ]
     },
     "metadata": {},
     "output_type": "display_data"
    },
    {
     "data": {
      "application/vnd.jupyter.widget-view+json": {
       "model_id": "4df249deb5754cba811cfc999e57081e",
       "version_major": 2,
       "version_minor": 0
      },
      "text/plain": [
       "interactive(children=(Dropdown(description='Municipality', options=('Aabenraa', 'Aalborg', 'Aarhus', 'Albertsl…"
      ]
     },
     "metadata": {},
     "output_type": "display_data"
    }
   ],
   "source": [
    "# a. Interactive plot for income\n",
    "project1_functions.interactive_plot(dataframe=income)\n",
    "\n",
    "# b. Interactive plot for life expectancy\n",
    "project1_functions.interactive_plot(dataframe=life)"
   ]
  },
  {
   "cell_type": "markdown",
   "metadata": {},
   "source": [
    "## Merge datasets"
   ]
  },
  {
   "cell_type": "markdown",
   "metadata": {},
   "source": [
    "We choose to merge the two datasets by inner join, since we only wish to keep the observations which are in both datasets. This is because we are not interested in observations in only one of datasets in the following analysis. I.e. we have kept the blue/purple cicle from Figure 1 above. "
   ]
  },
  {
   "cell_type": "code",
   "execution_count": 13,
   "metadata": {},
   "outputs": [
    {
     "data": {
      "text/html": [
       "<div>\n",
       "<style scoped>\n",
       "    .dataframe tbody tr th:only-of-type {\n",
       "        vertical-align: middle;\n",
       "    }\n",
       "\n",
       "    .dataframe tbody tr th {\n",
       "        vertical-align: top;\n",
       "    }\n",
       "\n",
       "    .dataframe thead th {\n",
       "        text-align: right;\n",
       "    }\n",
       "</style>\n",
       "<table border=\"1\" class=\"dataframe\">\n",
       "  <thead>\n",
       "    <tr style=\"text-align: right;\">\n",
       "      <th></th>\n",
       "      <th>municipality</th>\n",
       "      <th>year</th>\n",
       "      <th>income</th>\n",
       "      <th>life expectancy</th>\n",
       "    </tr>\n",
       "  </thead>\n",
       "  <tbody>\n",
       "    <tr>\n",
       "      <td>0</td>\n",
       "      <td>Aabenraa</td>\n",
       "      <td>2008</td>\n",
       "      <td>255470</td>\n",
       "      <td>78.2</td>\n",
       "    </tr>\n",
       "    <tr>\n",
       "      <td>1</td>\n",
       "      <td>Aabenraa</td>\n",
       "      <td>2009</td>\n",
       "      <td>247369</td>\n",
       "      <td>78.5</td>\n",
       "    </tr>\n",
       "    <tr>\n",
       "      <td>2</td>\n",
       "      <td>Aabenraa</td>\n",
       "      <td>2010</td>\n",
       "      <td>258176</td>\n",
       "      <td>78.5</td>\n",
       "    </tr>\n",
       "    <tr>\n",
       "      <td>3</td>\n",
       "      <td>Aabenraa</td>\n",
       "      <td>2011</td>\n",
       "      <td>261635</td>\n",
       "      <td>78.8</td>\n",
       "    </tr>\n",
       "    <tr>\n",
       "      <td>4</td>\n",
       "      <td>Aabenraa</td>\n",
       "      <td>2012</td>\n",
       "      <td>266148</td>\n",
       "      <td>79.1</td>\n",
       "    </tr>\n",
       "  </tbody>\n",
       "</table>\n",
       "</div>"
      ],
      "text/plain": [
       "  municipality  year  income life expectancy\n",
       "0     Aabenraa  2008  255470            78.2\n",
       "1     Aabenraa  2009  247369            78.5\n",
       "2     Aabenraa  2010  258176            78.5\n",
       "3     Aabenraa  2011  261635            78.8\n",
       "4     Aabenraa  2012  266148            79.1"
      ]
     },
     "execution_count": 13,
     "metadata": {},
     "output_type": "execute_result"
    }
   ],
   "source": [
    "merge_data = pd.merge(income, life, on=['municipality','year'], how='inner')\n",
    "merge_data.head()"
   ]
  },
  {
   "cell_type": "markdown",
   "metadata": {},
   "source": [
    "## Analysis"
   ]
  },
  {
   "cell_type": "code",
   "execution_count": null,
   "metadata": {},
   "outputs": [],
   "source": []
  },
  {
   "cell_type": "markdown",
   "metadata": {},
   "source": [
    "## Conclusion"
   ]
  },
  {
   "cell_type": "markdown",
   "metadata": {},
   "source": []
  }
 ],
 "metadata": {
  "kernelspec": {
   "display_name": "Python 3",
   "language": "python",
   "name": "python3"
  },
  "language_info": {
   "codemirror_mode": {
    "name": "ipython",
    "version": 3
   },
   "file_extension": ".py",
   "mimetype": "text/x-python",
   "name": "python",
   "nbconvert_exporter": "python",
   "pygments_lexer": "ipython3",
   "version": "3.7.4"
  }
 },
 "nbformat": 4,
 "nbformat_minor": 2
}
