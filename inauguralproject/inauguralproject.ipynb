{
 "cells": [
  {
   "cell_type": "markdown",
   "metadata": {},
   "source": [
    "# Inaugural Project"
   ]
  },
  {
   "cell_type": "markdown",
   "metadata": {},
   "source": [
    "> **Note the following:** \n",
    "> 1. This is an example of how to structure your **inaugural project**.\n",
    "> 1. Remember the general advice on structuring and commenting your code from [lecture 5](https://numeconcopenhagen.netlify.com/lectures/Workflow_and_debugging).\n",
    "> 1. Remember this [guide](https://www.markdownguide.org/basic-syntax/) on markdown and (a bit of) latex.\n",
    "> 1. Turn on automatic numbering by clicking on the small icon on top of the table of contents in the left sidebar.\n",
    "> 1. The `inauguralproject.py` file includes a function which can be used multiple times in this notebook."
   ]
  },
  {
   "cell_type": "markdown",
   "metadata": {},
   "source": [
    "We start by importing the below packages:"
   ]
  },
  {
   "cell_type": "code",
   "execution_count": 1,
   "metadata": {},
   "outputs": [],
   "source": [
    "import numpy as np\n",
    "import itertools as it\n",
    "import seaborn as sns\n",
    "import matplotlib.pyplot as plt\n",
    "\n",
    "# autoreload modules when code is run\n",
    "%load_ext autoreload\n",
    "%autoreload 2\n",
    "\n",
    "# local modules\n",
    "import inauguralproject\n",
    "from scipy import optimize"
   ]
  },
  {
   "cell_type": "markdown",
   "metadata": {
    "toc-hr-collapsed": true
   },
   "source": [
    "\n",
    "# Question 1"
   ]
  },
  {
   "cell_type": "markdown",
   "metadata": {},
   "source": [
    "We now set the parameters for the assignment."
   ]
  },
  {
   "cell_type": "code",
   "execution_count": 2,
   "metadata": {},
   "outputs": [],
   "source": [
    "# a. Set parameter values:\n",
    "m = 1          # Cash-on-hand\n",
    "nu = 10        # Labour disutility scalar\n",
    "epsilon = 0.3  # Frisch elasticity of labour supply\n",
    "tau0 = 0.4     # Standard labour tax rate\n",
    "tau1 = 0.1     # Extra tax when paying top tax\n",
    "kappa = 0.4    # Income cut-off for paying top tax\n",
    "w = 0.5        # Wage\n",
    "x_resource = 2 # Total resources"
   ]
  },
  {
   "cell_type": "code",
   "execution_count": 3,
   "metadata": {},
   "outputs": [],
   "source": [
    "\n",
    "# b. We define the utility function  given the parameters above\n",
    "def utility(l, c):\n",
    "    return np.log(c) - nu*(l**(1 + 1/epsilon)/(1 + 1/epsilon))\n",
    "\n",
    "# c. Likewise the budget constraint\n",
    "def budget_constraint(l):\n",
    "    return m + w*l - (tau0*w*l + tau1*max((w*l - kappa), 0))\n",
    "\n",
    "# d. We thus define anobjective function we wish to minimize\n",
    "def objective(l):\n",
    "    c = budget_constraint(l)\n",
    "    \n",
    "    return -utility(l, c) # It is negative since we're going to minimize the objective function\n",
    "\n",
    "# e. We write a function that calls a solver to optimize the choice of labour supply\n",
    "def find_solution():\n",
    "    res = optimize.minimize_scalar(\n",
    "        objective,\n",
    "        method = 'bounded', \n",
    "        bounds = (0,1)\n",
    "    )\n",
    "    \n",
    "    l_star = res.x\n",
    "    c_star = budget_constraint(l_star)\n",
    "    utility_star = utility(l_star, c_star)\n",
    "\n",
    "    \n",
    "    return [l_star, c_star, utility_star]"
   ]
  },
  {
   "cell_type": "code",
   "execution_count": 4,
   "metadata": {},
   "outputs": [
    {
     "data": {
      "text/plain": [
       "[0.33924126400854654, 1.101772379202564, 0.07560365728425235]"
      ]
     },
     "execution_count": 4,
     "metadata": {},
     "output_type": "execute_result"
    }
   ],
   "source": [
    "#We call the results from the above function printing the optimal labour, consumpton and the utility of those:\n",
    "find_solution()"
   ]
  },
  {
   "cell_type": "markdown",
   "metadata": {},
   "source": [
    "# Question 2"
   ]
  },
  {
   "cell_type": "markdown",
   "metadata": {},
   "source": [
    "We generate values of optimal labour supply and consumption at different wage level to use in figure"
   ]
  },
  {
   "cell_type": "code",
   "execution_count": 5,
   "metadata": {},
   "outputs": [
    {
     "data": {
      "image/png": "[encoded data removed]",
      "text/plain": [
       "<Figure size 504x576 with 2 Axes>"
      ]
     },
     "metadata": {
      "needs_background": "light"
     },
     "output_type": "display_data"
    }
   ],
   "source": [
    "# a. We generate values of optimal labour supply and consumption at different wage level to use in figure\n",
    "# i. We define vectors to use in the loop\n",
    "N_fig = 100\n",
    "w_vec = np.linspace(0.5, 1.5, N_fig)\n",
    "l_star_vec = np.empty(N_fig)\n",
    "c_star_vec = np.empty(N_fig)\n",
    "\n",
    "# ii. Optimize utility with different wages in interval [0.5, 1.5], i.e. w_vec\n",
    "for i, wi in enumerate(w_vec):\n",
    "    \n",
    "    # o. Changing the parameter input in find_solution()\n",
    "    w = wi \n",
    "    \n",
    "    # oo. Call function from previous exercise\n",
    "    fs = find_solution()\n",
    "    \n",
    "    # ooo. Replace the optimal labour supply and consumption levels in vectors\n",
    "    l_star_vec[i] = fs[0]\n",
    "    c_star_vec[i] = fs[1]\n",
    "    \n",
    "    \n",
    "# b. Plot optimal labour supply and optimal consumption level as a function of the wage\n",
    "import seaborn as sns\n",
    "import matplotlib.pyplot as plt\n",
    "\n",
    "# i. Make a figure with two subplots\n",
    "fig, axes = plt.subplots(2, figsize=(7,8))\n",
    "\n",
    "# ii. We add title and adjust the width and height\n",
    "plt.suptitle(\"The Relationship between Wage and the Optimal Consumption and Labour Supply\")\n",
    "plt.subplots_adjust(wspace=0.3, hspace=0.4)\n",
    "\n",
    "# iii. First subplot: Optimal labour supply and the wage rate\n",
    "sns.scatterplot(\n",
    "    x=w_vec, y=l_star_vec,\n",
    "    palette=sns.color_palette(\"hls\", 10),\n",
    "    linewidth=0,\n",
    "    legend=None, \n",
    "    ax = axes[0]\n",
    ")\n",
    "#We set y and x labesl as well as the title\n",
    "axes[0].set_ylabel(\"Optimal labour supply\")\n",
    "axes[0].set_xlabel(\"Wage rate\")\n",
    "axes[0].set_title(\"Optimal Labour Supply and Wage\")\n",
    "\n",
    "# iii. Second subplot: Optimal consumption and the wage rate\n",
    "sns.scatterplot(\n",
    "    x=w_vec, y=c_star_vec,\n",
    "    palette=sns.color_palette(\"hls\", 10),\n",
    "    linewidth=0,\n",
    "    legend=None, \n",
    "    ax = axes[1]\n",
    ")\n",
    "#We set y and x labesl as well as the title\n",
    "axes[1].set_ylabel(\"Optimal consumption level\")\n",
    "axes[1].set_xlabel(\"Wage rate\")\n",
    "axes[1].set_title(\"Optimal Consumption Level and Wage\")\n",
    "\n",
    "plt.show()"
   ]
  },
  {
   "cell_type": "markdown",
   "metadata": {},
   "source": [
    "# Question 3"
   ]
  },
  {
   "cell_type": "markdown",
   "metadata": {},
   "source": [
    "The total tax revenue is 2747.8, as seen from the output of the code below. "
   ]
  },
  {
   "cell_type": "code",
   "execution_count": 6,
   "metadata": {},
   "outputs": [
    {
     "data": {
      "text/plain": [
       "2747.8883606062095"
      ]
     },
     "execution_count": 6,
     "metadata": {},
     "output_type": "execute_result"
    }
   ],
   "source": [
    "# a. Setting variables\n",
    "N = 10000 # Population size\n",
    "wi = np.random.uniform(low = 0.5, high = 1.5, size = N) # Distribution of wage rates\n",
    "\n",
    "# b. Calculate the total tax revenue\n",
    "# ii. Write function for individual taxcontribution\n",
    "def tax_contribution(l):\n",
    "    return tau0*w*l + tau1*max((w*l - kappa), 0)\n",
    "\n",
    "# ii. Write a function that calculates the tax revenue by looping over all individuals\n",
    "def tax_revenue(N, wi):\n",
    "    # o. Initiate the sum in tax revenue\n",
    "    T = 0\n",
    "    \n",
    "    for i in range(N):\n",
    "        # oo. Get the individual's wage rate\n",
    "        w = wi[i]\n",
    "\n",
    "        # ooo. Find the individual's optimal labour supply\n",
    "        sol = find_solution()\n",
    "        l_opt = sol[0]\n",
    "\n",
    "        # oooo. Add the individual's tax contribution to the tax revenue\n",
    "        T += tax_contribution(l_opt)\n",
    "\n",
    "    return T\n",
    "\n",
    "# c. Print tax revenue\n",
    "tax_revenue(N, wi)"
   ]
  },
  {
   "cell_type": "markdown",
   "metadata": {},
   "source": [
    "# Question 4"
   ]
  },
  {
   "cell_type": "markdown",
   "metadata": {},
   "source": [
    "The total tax revenue with $\\varepsilon=0.1$ is 5125.3, as seen from the output of the code below. "
   ]
  },
  {
   "cell_type": "code",
   "execution_count": 7,
   "metadata": {},
   "outputs": [
    {
     "data": {
      "text/plain": [
       "5125.326797897969"
      ]
     },
     "execution_count": 7,
     "metadata": {},
     "output_type": "execute_result"
    }
   ],
   "source": [
    "# a. Change value of epsilon\n",
    "epsilon = 0.1\n",
    "\n",
    "# b. Calculate and print tax revenue from the above function\n",
    "tax_revenue(N, wi)"
   ]
  },
  {
   "cell_type": "code",
   "execution_count": null,
   "metadata": {},
   "outputs": [],
   "source": []
  },
  {
   "cell_type": "markdown",
   "metadata": {},
   "source": [
    "# Question 5"
   ]
  },
  {
   "cell_type": "markdown",
   "metadata": {},
   "source": [
    "The below code will require you to have the .py file"
   ]
  },
  {
   "cell_type": "code",
   "execution_count": 8,
   "metadata": {},
   "outputs": [],
   "source": [
    "# We create a random wage uniformly distributed, but with N=100 for faster kernel-speed.\n",
    "# This is were we started to import functions from the .py file\n",
    "\n",
    "w_rand = np.random.uniform(0.5,1.5,size = 100)\n",
    "#We use the totaltax function with tao0, tao1 and kappa as variables\n",
    "def obj2(x):\n",
    "    stau0 = x[0]\n",
    "    stau1 = x[1]\n",
    "    skappa = x[2]\n",
    "    return -inauguralproject.tottax(stau0, stau1, skappa, m, nu, epsilon, w_rand)"
   ]
  },
  {
   "cell_type": "code",
   "execution_count": 9,
   "metadata": {},
   "outputs": [
    {
     "name": "stdout",
     "output_type": "stream",
     "text": [
      "Optimization terminated successfully.    (Exit mode 0)\n",
      "            Current function value: -25.279542214133592\n",
      "            Iterations: 7\n",
      "            Function evaluations: 51\n",
      "            Gradient evaluations: 7\n",
      "     fun: -25.279542214133592\n",
      "     jac: array([-0.0706346 ,  0.21274185,  0.06835866])\n",
      " message: 'Optimization terminated successfully.'\n",
      "    nfev: 51\n",
      "     nit: 7\n",
      "    njev: 7\n",
      "  status: 0\n",
      " success: True\n",
      "       x: array([0.7836596 , 0.59699255, 0.60478653])\n"
     ]
    }
   ],
   "source": [
    "#We set some initial bounds\n",
    "bndt0 = (0.0,1.0) # maybe upper bound tao1\n",
    "bndt1 = (0.0,1.0) # maybe lower bound tao0\n",
    "bndk = (0.0,1.0)\n",
    "# combining bounds to one \n",
    "bounds2 = (bndt0, bndt1, bndk)\n",
    "\n",
    "#our initial guess\n",
    "initial_guess = np.array([0.5,0.5,0.5])\n",
    "\n",
    "# call solver function\n",
    "optimaltax = optimize.minimize(obj2, initial_guess, bounds=bounds2, method='SLSQP', options={'disp':True}) # constraints = cons\n",
    "print(optimaltax)"
   ]
  },
  {
   "cell_type": "code",
   "execution_count": 10,
   "metadata": {},
   "outputs": [
    {
     "name": "stdout",
     "output_type": "stream",
     "text": [
      "The optimal tau0 is thus = 0.78365960\n",
      "The optimal tau1 is thus = 0.59699255\n",
      "The optimal kappa is thus = 0.60478653\n",
      "These give a tax revenue of = 25.27954221\n"
     ]
    }
   ],
   "source": [
    "#Printing the Solution\n",
    "tau0 = optimaltax.x[0]\n",
    "tau1 = optimaltax.x[1]\n",
    "kappa = optimaltax.x[2]\n",
    "TAX = inauguralproject.tottax(tau0, tau1, kappa, m, nu, epsilon, w_rand)\n",
    "inauguralproject.find_solution2(tau0,tau1,kappa,TAX)"
   ]
  },
  {
   "cell_type": "markdown",
   "metadata": {},
   "source": [
    "# Conclusion"
   ]
  },
  {
   "cell_type": "markdown",
   "metadata": {},
   "source": [
    "As so we've run through the problem set giving a possible answer to each of the questions.\n",
    "\n",
    "We find that that in question 1 the optimal labour is 0.33, the optimal consumption is 1.1 which yields a utility of 0.07.\n",
    "\n",
    "We find that the optimal labour and consumption is increasing with the wage in question 2\n",
    "\n",
    "In question 3 we find the total tax revenue to 2747.8\n",
    "\n",
    "In question 4 we find a total tax revenue to 5125.3 if $\\varepsilon=0.1$\n",
    "\n",
    "Lastly we find in question 5 that:\n",
    "\n",
    "the optimal $\\tau_0$ is 0.78455867\n",
    "\n",
    "the optimal $\\tau_1$ is 0.59699255\n",
    "\n",
    "the optimal $\\kappa$ is 0.60478653\n",
    "\n",
    "Which yields a tax revenue of 25.27954221\n",
    "\n",
    "\n"
   ]
  },
  {
   "cell_type": "code",
   "execution_count": null,
   "metadata": {},
   "outputs": [],
   "source": []
  },
  {
   "cell_type": "code",
   "execution_count": null,
   "metadata": {},
   "outputs": [],
   "source": []
  }
 ],
 "metadata": {
  "kernelspec": {
   "display_name": "Python 3",
   "language": "python",
   "name": "python3"
  },
  "language_info": {
   "codemirror_mode": {
    "name": "ipython",
    "version": 3
   },
   "file_extension": ".py",
   "mimetype": "text/x-python",
   "name": "python",
   "nbconvert_exporter": "python",
   "pygments_lexer": "ipython3",
   "version": "3.7.6"
  },
  "toc-autonumbering": true
 },
 "nbformat": 4,
 "nbformat_minor": 4
}
