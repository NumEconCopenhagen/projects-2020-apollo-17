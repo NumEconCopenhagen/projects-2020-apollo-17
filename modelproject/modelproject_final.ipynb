{
 "cells": [
  {
   "cell_type": "markdown",
   "metadata": {},
   "source": [
    "# A Simple Model of the Labour Market"
   ]
  },
  {
   "cell_type": "code",
   "execution_count": 108,
   "metadata": {},
   "outputs": [],
   "source": [
    "import numpy as np\n",
    "from scipy import optimize\n",
    "import sympy as sm\n",
    "from math import log\n",
    "import matplotlib.pyplot as plt\n",
    "%matplotlib inline\n",
    "import ipywidgets as widgets\n",
    "import types\n",
    "import modelproject_functions as my"
   ]
  },
  {
   "cell_type": "markdown",
   "metadata": {},
   "source": [
    "## Introduction"
   ]
  },
  {
   "cell_type": "markdown",
   "metadata": {},
   "source": [
    "In this project, we look at a simple model of the labour market described below. First, we will look at the model with a production function with a constant marginal product of labour. Then, we extend the model with a bit more realistic production function with decreasing marginal product of labour. We will both look at the implications of changing the production function for the equilibrium of the model, and how it changes the methods needed to solve the model numerically. "
   ]
  },
  {
   "cell_type": "markdown",
   "metadata": {},
   "source": [
    "## Model Description"
   ]
  },
  {
   "cell_type": "markdown",
   "metadata": {},
   "source": [
    "We're considering a simple model for unemployment with the following variables:\n",
    "\n",
    "- $Y$: Aggregate output \n",
    "- $L$: Labour\n",
    "- $P$: Price\n",
    "- $W$: Nominal wage\n",
    "- $w \\equiv W/P$: Real wage\n",
    "- $C$: Consumption\n",
    "\n",
    "\n",
    "We use a neoclassical static labour supply model, where individuals enjoy leisure and consumption and finance their consumption with non-labour income and/or by working. The individuals are identical, so we let one individual represent them all. \n",
    "\n",
    "\n",
    "The representative individual has a CRRA **utility function**:\n",
    "\n",
    "$$\n",
    "\\begin{align}\n",
    "&u(C, L) = \\log (C) - \\phi \\frac{L^{1+\\frac{1}{\\epsilon}}}{1+\\frac{1}{\\epsilon}}\n",
    "\\end{align}\n",
    "$$\n",
    "\n",
    "where $\\phi$ scales the disutility of labour, and $\\epsilon$ is the elasticity of the labour supply with respect to the real wage rate at a given constant marginal utility of wealth, the so-called Frisch elasticity of labour supply. \n",
    "\n",
    "\n",
    "The individual's **budget constraint** is:\n",
    "\n",
    "\n",
    "$$\n",
    "CP \\leq WL \\hspace{3ex} \\Leftrightarrow \\hspace{3ex} C \\leq wL\n",
    "$$\n",
    "\n",
    "\n",
    "In optimum, the equality must hold:\n",
    "\n",
    "$$\n",
    "C = wL\n",
    "$$\n",
    "\n",
    "\n",
    "The representative individual has the **maximisation problem**:\n",
    "\n",
    "$$\n",
    "\\max_{C,L} \\log (C) - \\phi \\frac{L^{1+\\frac{1}{\\epsilon}}}{1+\\frac{1}{\\epsilon}} \\hspace{3ex} \\text{subject to} \\hspace{3ex} C = wL\n",
    "$$\n",
    "\n",
    "The **Lagrange function** for the individual's maximisation problem is:\n",
    "\n",
    "$$\n",
    "\\mathcal{L} = \\log (C) - \\phi \\frac{L^{1+\\frac{1}{\\epsilon}}}{1+\\frac{1}{\\epsilon}} - \\lambda\\left( C - wL \\right)\n",
    "$$\n",
    "\n",
    "\n",
    "We assume perfect competition and look at a representative firm. The representative firm has the **production function**:\n",
    "\n",
    "$$\n",
    "Y = L\n",
    "$$\n",
    "\n",
    "I.e. there is constant marginal product of labour. \n",
    "\n",
    "\n",
    "\n",
    "For simcplicity, we normalise the price such that $P=1$. The firm's **profit function** is:\n",
    "\n",
    "$$\n",
    "\\Pi = PY - WL = Y - wL\n",
    "$$\n",
    "\n",
    "\n",
    "Hence, the firm faces the maximisation problem:\n",
    "\n",
    "$$\n",
    "\\max_{w} Y - wL \\hspace{3ex} \\text{subject to} \\hspace{3ex} Y = L\n",
    "$$\n",
    "\n",
    "\n",
    "The **market clearing condition** is that the aggregate consumption equals aggregate output:\n",
    "\n",
    "$$\n",
    "C = Y \\hspace{3ex} \\Leftrightarrow \\hspace{3ex} C = L\n",
    "$$"
   ]
  },
  {
   "cell_type": "markdown",
   "metadata": {},
   "source": [
    "## Analytical solution"
   ]
  },
  {
   "cell_type": "markdown",
   "metadata": {},
   "source": [
    "Define symbols:"
   ]
  },
  {
   "cell_type": "code",
   "execution_count": 43,
   "metadata": {},
   "outputs": [],
   "source": [
    "L = sm.symbols('L')\n",
    "C = sm.symbols('C')\n",
    "w = sm.symbols('w')\n",
    "Y = sm.symbols('Y')\n",
    "u = sm.symbols('u')\n",
    "epsilon = sm.symbols('epsilon')\n",
    "pi = sm.symbols('pi')\n",
    "phi = sm.symbols('phi')\n",
    "lambd = sm.symbols('lambda')\n",
    "alpha = sm.symbols('alpha')\n",
    "T = sm.symbols('T')"
   ]
  },
  {
   "cell_type": "markdown",
   "metadata": {},
   "source": [
    "<br>\n",
    "\n",
    "### Problem of the consumer/worker"
   ]
  },
  {
   "cell_type": "markdown",
   "metadata": {},
   "source": [
    "Define equation:"
   ]
  },
  {
   "cell_type": "code",
   "execution_count": 44,
   "metadata": {},
   "outputs": [],
   "source": [
    "u = sm.log(C) - phi*(L**(1 + 1/epsilon)/(1 + 1/epsilon))\n",
    "budget = C - w*L"
   ]
  },
  {
   "cell_type": "markdown",
   "metadata": {},
   "source": [
    "Define the Lagrange function:"
   ]
  },
  {
   "cell_type": "code",
   "execution_count": 45,
   "metadata": {
    "scrolled": true
   },
   "outputs": [
    {
     "data": {
      "text/latex": [
       "$\\displaystyle - \\frac{L^{1 + \\frac{1}{\\epsilon}} \\phi}{1 + \\frac{1}{\\epsilon}} - \\lambda \\left(C - L w\\right) + \\log{\\left(C \\right)}$"
      ],
      "text/plain": [
       "-L**(1 + 1/epsilon)*phi/(1 + 1/epsilon) - lambda*(C - L*w) + log(C)"
      ]
     },
     "execution_count": 45,
     "metadata": {},
     "output_type": "execute_result"
    }
   ],
   "source": [
    "lagrange = u - lambd*(budget)\n",
    "lagrange"
   ]
  },
  {
   "cell_type": "markdown",
   "metadata": {},
   "source": [
    "Find the first order condition (FOC) of the problem with respect to consumption:"
   ]
  },
  {
   "cell_type": "code",
   "execution_count": 46,
   "metadata": {},
   "outputs": [
    {
     "data": {
      "text/latex": [
       "$\\displaystyle - \\lambda + \\frac{1}{C} = 0$"
      ],
      "text/plain": [
       "Eq(-lambda + 1/C, 0)"
      ]
     },
     "execution_count": 46,
     "metadata": {},
     "output_type": "execute_result"
    }
   ],
   "source": [
    "lagrange_C = sm.diff(lagrange, C)\n",
    "FOC_C = sm.Eq(lagrange_C, 0)\n",
    "FOC_C"
   ]
  },
  {
   "cell_type": "markdown",
   "metadata": {},
   "source": [
    "Isolate the Lagrange multiplier, $\\lambda$:"
   ]
  },
  {
   "cell_type": "code",
   "execution_count": 47,
   "metadata": {},
   "outputs": [
    {
     "data": {
      "text/latex": [
       "$\\displaystyle \\frac{1}{C}$"
      ],
      "text/plain": [
       "1/C"
      ]
     },
     "execution_count": 47,
     "metadata": {},
     "output_type": "execute_result"
    }
   ],
   "source": [
    "lambd_ = sm.solve(FOC_C, lambd)[0]\n",
    "lambd_"
   ]
  },
  {
   "cell_type": "markdown",
   "metadata": {},
   "source": [
    "Find the FOC of the problem with respect to labour supply:"
   ]
  },
  {
   "cell_type": "code",
   "execution_count": 48,
   "metadata": {},
   "outputs": [
    {
     "data": {
      "text/latex": [
       "$\\displaystyle \\lambda w - \\frac{L^{1 + \\frac{1}{\\epsilon}} \\phi}{L} = 0$"
      ],
      "text/plain": [
       "Eq(lambda*w - L**(1 + 1/epsilon)*phi/L, 0)"
      ]
     },
     "execution_count": 48,
     "metadata": {},
     "output_type": "execute_result"
    }
   ],
   "source": [
    "lagrange_L = sm.diff(lagrange, L)\n",
    "FOC_L = sm.Eq(lagrange_L, 0)\n",
    "FOC_L"
   ]
  },
  {
   "cell_type": "markdown",
   "metadata": {},
   "source": [
    "Insert the expression for the lagrange multiplier:"
   ]
  },
  {
   "cell_type": "code",
   "execution_count": 49,
   "metadata": {
    "scrolled": true
   },
   "outputs": [
    {
     "data": {
      "text/latex": [
       "$\\displaystyle - \\frac{L^{1 + \\frac{1}{\\epsilon}} \\phi}{L} + \\frac{w}{C} = 0$"
      ],
      "text/plain": [
       "Eq(-L**(1 + 1/epsilon)*phi/L + w/C, 0)"
      ]
     },
     "execution_count": 49,
     "metadata": {},
     "output_type": "execute_result"
    }
   ],
   "source": [
    "FOC_L2 = FOC_L.subs(lambd, lambd_)\n",
    "FOC_L2"
   ]
  },
  {
   "cell_type": "markdown",
   "metadata": {},
   "source": [
    "Insert market clearing condition:"
   ]
  },
  {
   "cell_type": "code",
   "execution_count": 50,
   "metadata": {
    "scrolled": true
   },
   "outputs": [
    {
     "data": {
      "text/latex": [
       "$\\displaystyle - \\frac{L^{1 + \\frac{1}{\\epsilon}} \\phi}{L} + \\frac{w}{L} = 0$"
      ],
      "text/plain": [
       "Eq(-L**(1 + 1/epsilon)*phi/L + w/L, 0)"
      ]
     },
     "execution_count": 50,
     "metadata": {},
     "output_type": "execute_result"
    }
   ],
   "source": [
    "Y = L\n",
    "FOC_L3 = FOC_L2.subs(C, Y)\n",
    "FOC_L3"
   ]
  },
  {
   "cell_type": "markdown",
   "metadata": {},
   "source": [
    "Solve for labour supply:"
   ]
  },
  {
   "cell_type": "code",
   "execution_count": 51,
   "metadata": {},
   "outputs": [
    {
     "data": {
      "text/latex": [
       "$\\displaystyle \\left(\\frac{w}{\\phi}\\right)^{\\frac{\\epsilon}{\\epsilon + 1}}$"
      ],
      "text/plain": [
       "(w/phi)**(epsilon/(epsilon + 1))"
      ]
     },
     "execution_count": 51,
     "metadata": {},
     "output_type": "execute_result"
    }
   ],
   "source": [
    "L_supply = sm.solve(FOC_L3, L)[0]\n",
    "L_supply"
   ]
  },
  {
   "cell_type": "markdown",
   "metadata": {},
   "source": [
    "This is the **labour supply function**. The labour supply depends positively on the wage and negatively on $\\phi$, which makes sense since $\\phi$ scales the disutility of labour. Furthermore, the labour supply is increasing in $\\epsilon$, the Frisch elasticity. This is because that the higher $\\epsilon$ is, the more does the individual respond to a given change in the wage. "
   ]
  },
  {
   "cell_type": "markdown",
   "metadata": {},
   "source": [
    "<br>\n",
    "\n",
    "### Problem of the firm"
   ]
  },
  {
   "cell_type": "markdown",
   "metadata": {},
   "source": [
    "Define production function and profit:"
   ]
  },
  {
   "cell_type": "code",
   "execution_count": 52,
   "metadata": {},
   "outputs": [
    {
     "data": {
      "text/latex": [
       "$\\displaystyle - L w + L$"
      ],
      "text/plain": [
       "-L*w + L"
      ]
     },
     "execution_count": 52,
     "metadata": {},
     "output_type": "execute_result"
    }
   ],
   "source": [
    "pi = Y - w*L\n",
    "pi"
   ]
  },
  {
   "cell_type": "markdown",
   "metadata": {},
   "source": [
    "Find FOC of firm's problem with respect to labour:"
   ]
  },
  {
   "cell_type": "code",
   "execution_count": 53,
   "metadata": {
    "scrolled": false
   },
   "outputs": [
    {
     "data": {
      "text/latex": [
       "$\\displaystyle 1 - w = 0$"
      ],
      "text/plain": [
       "Eq(1 - w, 0)"
      ]
     },
     "execution_count": 53,
     "metadata": {},
     "output_type": "execute_result"
    }
   ],
   "source": [
    "pi_L = sm.diff(pi, L)\n",
    "FOC_L = sm.Eq(pi_L, 0)\n",
    "FOC_L"
   ]
  },
  {
   "cell_type": "markdown",
   "metadata": {},
   "source": [
    "Solve for the wage:"
   ]
  },
  {
   "cell_type": "code",
   "execution_count": 54,
   "metadata": {
    "scrolled": true
   },
   "outputs": [
    {
     "data": {
      "text/latex": [
       "$\\displaystyle 1$"
      ],
      "text/plain": [
       "1"
      ]
     },
     "execution_count": 54,
     "metadata": {},
     "output_type": "execute_result"
    }
   ],
   "source": [
    "w_opt = sm.solve(FOC_L, w)[0]\n",
    "w_opt"
   ]
  },
  {
   "cell_type": "markdown",
   "metadata": {},
   "source": [
    "In this setup, the firm makes a wage offer corresponding to the FOC of its profit maximisation problem, and the individual responds with a specific labour supply corresponding to the FOC of its utility maximisation problem. \n",
    "\n",
    "\n",
    "Since the marginal product of labour is constant, the wage offer made by the firm does not depend on the amount of labour already hired in the firm. The firm maximises its profit by setting its marginal costs equal to its marginal benefits. Since the wage is the marginal cost of producing one more unit of output, and the price is the marginal benefit of selling one more unit of output, the firm will always offer the wage $w = P = 1$, which is what we find above. \n",
    "\n",
    "\n",
    "The **labour demand function** is then just the labour supply that corresponds to a real wage rate of 1."
   ]
  },
  {
   "cell_type": "code",
   "execution_count": 55,
   "metadata": {},
   "outputs": [
    {
     "data": {
      "text/latex": [
       "$\\displaystyle \\left(\\frac{1}{\\phi}\\right)^{\\frac{\\epsilon}{\\epsilon + 1}}$"
      ],
      "text/plain": [
       "(1/phi)**(epsilon/(epsilon + 1))"
      ]
     },
     "execution_count": 55,
     "metadata": {},
     "output_type": "execute_result"
    }
   ],
   "source": [
    "L_demand = L_supply.subs(w, 1)\n",
    "L_demand"
   ]
  },
  {
   "cell_type": "markdown",
   "metadata": {},
   "source": [
    "<br>\n",
    "\n",
    "### Plot of the Labour Market Equilibrium"
   ]
  },
  {
   "cell_type": "code",
   "execution_count": 56,
   "metadata": {
    "scrolled": true
   },
   "outputs": [
    {
     "name": "stdout",
     "output_type": "stream",
     "text": [
      "The labour supply in equilibrium is: 1.065\n"
     ]
    },
    {
     "data": {
      "image/png": "[encoded data removed]",
      "text/plain": [
       "<Figure size 432x288 with 1 Axes>"
      ]
     },
     "metadata": {
      "needs_background": "light"
     },
     "output_type": "display_data"
    }
   ],
   "source": [
    "# a. Specify x's that the functions should be plotted for\n",
    "xs = np.arange(0.01, 3, 0.05)\n",
    "\n",
    "# b. Plot labour demand and supply using make_plot() from our module modelproject_function.py (imported as my)\n",
    "my.make_plot(L_supply, xs=xs, alpha_val=0.9, phi_val=0.5, epsilon_val=0.1)\n",
    "my.make_plot(L_demand, xs=xs, alpha_val=0.9, phi_val=0.5, epsilon_val=0.1)\n",
    "plt.grid()\n",
    "plt.xlabel(\"Wage, $w$\")\n",
    "plt.ylabel(\"Labour, $L$\")\n",
    "plt.legend(['Supply', 'Demand'])\n",
    "plt.title(\"Figure 1 Labour Market Equilibrium\")\n",
    "\n",
    "# c. Calculate the equilibrium labour supply\n",
    "supply_func = sm.lambdify((w, phi, epsilon), L_supply)\n",
    "L_eq = supply_func(1, 0.5, 0.1)\n",
    "print(f'The labour supply in equilibrium is: {L_eq:.3f}')"
   ]
  },
  {
   "cell_type": "markdown",
   "metadata": {},
   "source": [
    "From Figure 1, it is clear that the labour demand does not depend on the real wage rate, $w$, since it's just a horisontal line. The labour supply, on the other hand, is increasing in the real wage rate. By inserting a real wage rate of 1 in the labour supply function as well as the parameter values below, we get the equilibrium amount of labour, which is 1.07. \n",
    "\n",
    "$$\n",
    "\\begin{align}\n",
    "\\phi = 0.5 \\\\\n",
    "\\epsilon = 0.1\n",
    "\\end{align}\n",
    "$$"
   ]
  },
  {
   "cell_type": "markdown",
   "metadata": {},
   "source": [
    "<br>\n",
    "\n",
    "## Numerical solution\n",
    "\n",
    "Since the labour demand/wage offer does not depend on the amount of labour already hired in the firm, it is pretty simple to find the equilibrium - just plug parameter values and $w = 1$ in the labour supply function, as we did above. So, there is no need for numerically optimising, but we're going to do it for the fun it anyways."
   ]
  },
  {
   "cell_type": "code",
   "execution_count": 57,
   "metadata": {},
   "outputs": [],
   "source": [
    "# a. Make sure parameters are defined as symbols and not values\n",
    "w = sm.symbols('w')\n",
    "phi = sm.symbols('phi')\n",
    "alpha = sm.symbols('alpha')\n",
    "epsilon = sm.symbols('epsilon')\n",
    "\n",
    "# b. Make a python function of the utility and the budget constraint\n",
    "u_func = sm.lambdify((C, L, phi, epsilon), u)\n",
    "\n",
    "def budget_func(L, w):\n",
    "    return w*L"
   ]
  },
  {
   "cell_type": "code",
   "execution_count": 58,
   "metadata": {},
   "outputs": [
    {
     "data": {
      "text/plain": [
       "     fun: 0.027895710858186817\n",
       "    nfev: 20\n",
       "     nit: 16\n",
       " success: True\n",
       "       x: 1.0650410869703453"
      ]
     },
     "execution_count": 58,
     "metadata": {},
     "output_type": "execute_result"
    }
   ],
   "source": [
    "# c. Set parameter values\n",
    "epsilon = 0.1\n",
    "phi = 0.5\n",
    "w = 1\n",
    "objective = lambda L: -u_func(budget_func(L, w), L, phi, epsilon)\n",
    "L0 = 0.5\n",
    "\n",
    "# d. Optimize\n",
    "result = optimize.minimize_scalar(objective, method='Brent')\n",
    "result"
   ]
  },
  {
   "cell_type": "markdown",
   "metadata": {},
   "source": [
    "Luckily, we got the same result as in the analytical solution: The worker will work 1.07 units of time to a real wage rate of 1 with the above specified parameter values."
   ]
  },
  {
   "cell_type": "markdown",
   "metadata": {},
   "source": [
    "<br>\n",
    "\n",
    "# Introducing Decreasing Marginal Product of Labour"
   ]
  },
  {
   "cell_type": "markdown",
   "metadata": {},
   "source": [
    "We now extend the model by changing the production function to be a bit more realistic by having decreasing returns to labour. The **production function** is then:\n",
    "\n",
    "$$\n",
    "Y = L^{(1-\\alpha)}, \\hspace{3ex} 0<\\alpha<1\n",
    "$$"
   ]
  },
  {
   "cell_type": "markdown",
   "metadata": {},
   "source": [
    "<br>\n",
    "\n",
    "## Analytical solution"
   ]
  },
  {
   "cell_type": "markdown",
   "metadata": {},
   "source": [
    "Now, we do the same as before, just inserting the new production function. \n",
    "\n",
    "\n",
    "Define symbols:"
   ]
  },
  {
   "cell_type": "code",
   "execution_count": 59,
   "metadata": {},
   "outputs": [],
   "source": [
    "L = sm.symbols('L')\n",
    "C = sm.symbols('C')\n",
    "w = sm.symbols('w')\n",
    "Y = sm.symbols('Y')\n",
    "u = sm.symbols('u')\n",
    "epsilon = sm.symbols('epsilon')\n",
    "v = sm.symbols('v')\n",
    "pi = sm.symbols('pi')\n",
    "phi = sm.symbols('phi')\n",
    "lambd = sm.symbols('lambda')\n",
    "alpha = sm.symbols('alpha')"
   ]
  },
  {
   "cell_type": "markdown",
   "metadata": {},
   "source": [
    "<br>\n",
    "\n",
    "### Problem of the consumer/worker\n",
    "\n",
    "Everything is the same until inserting the market clearing condition:"
   ]
  },
  {
   "cell_type": "code",
   "execution_count": 60,
   "metadata": {
    "scrolled": true
   },
   "outputs": [
    {
     "data": {
      "text/latex": [
       "$\\displaystyle L^{\\alpha - 1} w - \\frac{L^{1 + \\frac{1}{\\epsilon}} \\phi}{L} = 0$"
      ],
      "text/plain": [
       "Eq(L**(alpha - 1)*w - L**(1 + 1/epsilon)*phi/L, 0)"
      ]
     },
     "execution_count": 60,
     "metadata": {},
     "output_type": "execute_result"
    }
   ],
   "source": [
    "Y = L**(1-alpha)\n",
    "FOC_L3 = FOC_L2.subs(C, Y)\n",
    "FOC_L3"
   ]
  },
  {
   "cell_type": "markdown",
   "metadata": {},
   "source": [
    "Solve for labour supply:"
   ]
  },
  {
   "cell_type": "code",
   "execution_count": 61,
   "metadata": {},
   "outputs": [
    {
     "data": {
      "text/latex": [
       "$\\displaystyle \\left(\\frac{\\phi}{w}\\right)^{\\frac{\\epsilon}{\\epsilon \\left(\\alpha - 1\\right) - 1}}$"
      ],
      "text/plain": [
       "(phi/w)**(epsilon/(epsilon*(alpha - 1) - 1))"
      ]
     },
     "execution_count": 61,
     "metadata": {},
     "output_type": "execute_result"
    }
   ],
   "source": [
    "L_supply = sm.solve(FOC_L3, L)[0]\n",
    "L_supply"
   ]
  },
  {
   "cell_type": "markdown",
   "metadata": {},
   "source": [
    "This is the **labour supply function**. We see that it is very close to the expression we found in the other model with constant marginal product of labour. Note that the exponent is negative, so that's why $\\phi$ and $w$ have swapped places. Now, the labour supply also depends positively on the input share of labour in the production process, hence it depends negatively on $\\alpha$ (since $1-\\alpha$ is the input share). "
   ]
  },
  {
   "cell_type": "markdown",
   "metadata": {},
   "source": [
    "<br>\n",
    "\n",
    "### Problem of the firm"
   ]
  },
  {
   "cell_type": "markdown",
   "metadata": {},
   "source": [
    "Define production function and profit:"
   ]
  },
  {
   "cell_type": "code",
   "execution_count": 62,
   "metadata": {
    "scrolled": true
   },
   "outputs": [
    {
     "data": {
      "text/latex": [
       "$\\displaystyle - L w + L^{1 - \\alpha}$"
      ],
      "text/plain": [
       "-L*w + L**(1 - alpha)"
      ]
     },
     "execution_count": 62,
     "metadata": {},
     "output_type": "execute_result"
    }
   ],
   "source": [
    "pi = Y - w*L\n",
    "pi"
   ]
  },
  {
   "cell_type": "markdown",
   "metadata": {},
   "source": [
    "Find FOC of firm's problem with respect to labour:"
   ]
  },
  {
   "cell_type": "code",
   "execution_count": 63,
   "metadata": {
    "scrolled": false
   },
   "outputs": [
    {
     "data": {
      "text/latex": [
       "$\\displaystyle - w + \\frac{L^{1 - \\alpha} \\left(1 - \\alpha\\right)}{L} = 0$"
      ],
      "text/plain": [
       "Eq(-w + L**(1 - alpha)*(1 - alpha)/L, 0)"
      ]
     },
     "execution_count": 63,
     "metadata": {},
     "output_type": "execute_result"
    }
   ],
   "source": [
    "pi_L = sm.diff(pi, L)\n",
    "FOC_L = sm.Eq(pi_L, 0)\n",
    "FOC_L"
   ]
  },
  {
   "cell_type": "markdown",
   "metadata": {},
   "source": [
    "Solve for the wage:"
   ]
  },
  {
   "cell_type": "code",
   "execution_count": 64,
   "metadata": {
    "scrolled": true
   },
   "outputs": [
    {
     "data": {
      "text/latex": [
       "$\\displaystyle L^{- \\alpha} \\left(1 - \\alpha\\right)$"
      ],
      "text/plain": [
       "L**(-alpha)*(1 - alpha)"
      ]
     },
     "execution_count": 64,
     "metadata": {},
     "output_type": "execute_result"
    }
   ],
   "source": [
    "w_opt = sm.solve(FOC_L, w)[0]\n",
    "w_opt"
   ]
  },
  {
   "cell_type": "markdown",
   "metadata": {},
   "source": [
    "Now, the wage offer depends on the amount of labour already hired in the firm. This is due to the fact that we introduced decreasing marginal product of labour - the more labour hired in the firm, the less is one more unit of labour worth. Therefore, the wage offer is decreasing in the amount of labour already hired in the firm. "
   ]
  },
  {
   "cell_type": "markdown",
   "metadata": {},
   "source": [
    "Since the wage offer of the firm now depends on the amount of labour, it is more complicated to find the equilibrium than in the previous model. Analytically, it is done by inserting the labour supply function in the FOC of the firm's profit maximisation problem and solving for the labour. This is what we have done below. "
   ]
  },
  {
   "cell_type": "code",
   "execution_count": 65,
   "metadata": {},
   "outputs": [
    {
     "data": {
      "text/latex": [
       "$\\displaystyle - w + \\left(\\frac{\\phi}{w}\\right)^{- \\frac{\\epsilon}{\\epsilon \\left(\\alpha - 1\\right) - 1}} \\left(1 - \\alpha\\right) \\left(\\left(\\frac{\\phi}{w}\\right)^{\\frac{\\epsilon}{\\epsilon \\left(\\alpha - 1\\right) - 1}}\\right)^{1 - \\alpha} = 0$"
      ],
      "text/plain": [
       "Eq(-w + (phi/w)**(-epsilon/(epsilon*(alpha - 1) - 1))*(1 - alpha)*((phi/w)**(epsilon/(epsilon*(alpha - 1) - 1)))**(1 - alpha), 0)"
      ]
     },
     "execution_count": 65,
     "metadata": {},
     "output_type": "execute_result"
    }
   ],
   "source": [
    "FOC2 = FOC_L.subs(L, L_supply)\n",
    "FOC2"
   ]
  },
  {
   "cell_type": "code",
   "execution_count": 66,
   "metadata": {},
   "outputs": [
    {
     "data": {
      "text/latex": [
       "$\\displaystyle \\left(\\phi^{\\alpha \\epsilon} \\left(1 - \\alpha\\right)^{- \\alpha \\epsilon + \\epsilon + 1}\\right)^{\\frac{1}{\\epsilon + 1}}$"
      ],
      "text/plain": [
       "(phi**(alpha*epsilon)*(1 - alpha)**(-alpha*epsilon + epsilon + 1))**(1/(epsilon + 1))"
      ]
     },
     "execution_count": 66,
     "metadata": {},
     "output_type": "execute_result"
    }
   ],
   "source": [
    "w_eq = sm.solve(FOC2, w)[0]\n",
    "w_eq"
   ]
  },
  {
   "cell_type": "markdown",
   "metadata": {},
   "source": [
    "The real wage rate in equilibrium now depends on the parametrisation of the model. "
   ]
  },
  {
   "cell_type": "markdown",
   "metadata": {},
   "source": [
    "<br>\n",
    "\n",
    "### Plot of Analytical Solution"
   ]
  },
  {
   "cell_type": "markdown",
   "metadata": {},
   "source": [
    "The labour demand function is derived by isolating labour in the FOC of the firm's problem with respect to labour: "
   ]
  },
  {
   "cell_type": "code",
   "execution_count": 67,
   "metadata": {},
   "outputs": [
    {
     "data": {
      "text/latex": [
       "$\\displaystyle \\left(\\frac{1 - \\alpha}{w}\\right)^{\\frac{1}{\\alpha}}$"
      ],
      "text/plain": [
       "((1 - alpha)/w)**(1/alpha)"
      ]
     },
     "execution_count": 67,
     "metadata": {},
     "output_type": "execute_result"
    }
   ],
   "source": [
    "L_demand = sm.solve(FOC_L, L)[0]\n",
    "L_demand"
   ]
  },
  {
   "cell_type": "code",
   "execution_count": 68,
   "metadata": {
    "scrolled": true
   },
   "outputs": [
    {
     "data": {
      "image/png": "[encoded data removed]",
      "text/plain": [
       "<Figure size 432x288 with 1 Axes>"
      ]
     },
     "metadata": {
      "needs_background": "light"
     },
     "output_type": "display_data"
    }
   ],
   "source": [
    "# a. Specify x's that the functions should be plotted for\n",
    "xs = np.arange(0.01, 0.2, 0.01)\n",
    "\n",
    "# b. Plot the labour supply and demand using make_plot() from our module modelproject_function.py (imported as my)\n",
    "my.make_plot(L_supply, xs=xs, alpha_val=0.9, phi_val=0.5, epsilon_val=0.1)\n",
    "my.make_plot(L_demand, xs=xs, alpha_val=0.9, phi_val=0.5, epsilon_val=0.1)\n",
    "plt.grid()\n",
    "plt.title(\"Figure 2 Labour Market Equilibrium with Decreasing \\n Marginal Product og Labour\")\n",
    "plt.legend(['Supply', 'Demand'])\n",
    "plt.xlabel(\"Wage, $w$\")\n",
    "plt.ylabel(\"Labour, $L$\")\n",
    "plt.show()"
   ]
  },
  {
   "cell_type": "markdown",
   "metadata": {},
   "source": [
    "Figure 2 shows the market equilibrium using the same parametrisation as before, i.e. $\\phi=0.5$ and $\\epsilon=0.1$, and a input share of labour of 0.1, i.e. $\\alpha=0.9$. The biggest change compared to the model with constant marginal product of labour is the labour demand function, which is not constant anymore, but decreasing in the wage. The amount labour in equilibrium seems to be around 1 as before, but the real wage rate is a lot lower now, around 0.11. "
   ]
  },
  {
   "cell_type": "markdown",
   "metadata": {},
   "source": [
    "<br>\n",
    "\n",
    "### Numerical solution"
   ]
  },
  {
   "cell_type": "markdown",
   "metadata": {},
   "source": [
    "The way to solve this model numerically is by trying different values of the real wage rate and see, if the demand for labour equals the labour supply. We do this by writing our own root finder. \n",
    "\n",
    "<br>\n",
    "\n",
    "\n",
    "**Description of algorithm: Bisection**\n",
    "\n",
    "\n",
    "We will code up a derivative-free algorithm of the method called bisection. The idea of bisection is to find the value at which a function is zero by following the steps:\n",
    "\n",
    "1. Set two points, $a_0$ and $b_0$, between which you know that your function, $f(\\cdot)$, has a root, and optimally only one root. \n",
    "\n",
    "\n",
    "2. Compute the function value at the midpoint between $a_0$ and $b_0$, i.e.\n",
    "\n",
    "  $$\n",
    "  f(m_0) = f\\left(\\frac{a_0 + b_0}{2}\\right)\n",
    "  $$\n",
    "  \n",
    "3. Reduce the interval in which the root lies by replacing either $a_0$ or $b_0$ with $m_0$:\n",
    "   - If $f(a_0)f(m_0)<0$, the start of your interval should be $m_0$ in stead of $a_0$, because this means that the function has different signs at $m_0$ and $b_0$. Hence, the (or a) root of the function is between $m_0$ and $b_0$ (under the assumption that the function is continuous).\n",
    "   \n",
    "   - If $f(b_0)f(m_0)<0$, the end of your interval should be $m_0$ in stead of $b_0$, since the function has different signs at the two points, i.e. the root of the function is between $a_0$ and $m_0$. \n",
    "   \n",
    "   \n",
    "4. Repeat steps 2 and 3 until the value of the function in the midpoint is below some tolerance, $\\varepsilon$. \n",
    "\n",
    "The labour supply and the labour demand equals in an equilibrium, so we want to use the root finder on the difference between the supply and demand:\n",
    "\n",
    "$$\n",
    "f(w) = L_{supply}(w) - L_{demand}(w)\n",
    "$$"
   ]
  },
  {
   "cell_type": "code",
   "execution_count": 69,
   "metadata": {
    "scrolled": true
   },
   "outputs": [
    {
     "data": {
      "image/png": "[encoded data removed]",
      "text/plain": [
       "<Figure size 432x288 with 1 Axes>"
      ]
     },
     "metadata": {
      "needs_background": "light"
     },
     "output_type": "display_data"
    }
   ],
   "source": [
    "# a. Define function as difference between labour supply and demand\n",
    "func = L_supply - L_demand\n",
    "\n",
    "# b. Plot function using make_plot() from our module modelproject_function.py (imported as my)\n",
    "my.make_plot(func, xs=xs, alpha_val=0.9, phi_val=0.5, epsilon_val=0.1)\n",
    "plt.grid()\n",
    "plt.xlabel(\"Wage, $w$\")\n",
    "plt.ylabel(\"Labour, $L$\")\n",
    "plt.title(\"Figure 3 Difference between Labour Supply and Demand\")\n",
    "plt.show()"
   ]
  },
  {
   "cell_type": "markdown",
   "metadata": {},
   "source": [
    "Figure 3 shows the same as Figure 2 - the difference between labour supply and demand is around 0.11. \n",
    "\n",
    "\n",
    "Now, we find the root using our own root finder. "
   ]
  },
  {
   "cell_type": "code",
   "execution_count": 70,
   "metadata": {
    "scrolled": false
   },
   "outputs": [
    {
     "name": "stdout",
     "output_type": "stream",
     "text": [
      "Bisection solution: \n",
      " The difference between labour supply and demand has the value -1.5510481787828212e-11\n",
      " at the wage 0.114 after 28 iterations\n",
      "The amount of labour in equilibrium is: 0.864\n"
     ]
    }
   ],
   "source": [
    "# a. Make sure parameters are sympy symbols\n",
    "epsilon = sm.symbols('epsilon')\n",
    "phi = sm.symbols('phi')\n",
    "alpha = sm.symbols('alpha')\n",
    "w = sm.symbols('w')\n",
    "\n",
    "# b. Make the difference between labour supply and demand a Python function \n",
    "func_ = sm.lambdify((w, alpha, phi, epsilon), func)\n",
    "supply_func = sm.lambdify((w, alpha, phi, epsilon), L_supply) # Labour supply for later\n",
    "\n",
    "alpha = 0.9\n",
    "phi = 0.5\n",
    "epsilon = 0.1\n",
    "\n",
    "function = lambda w: func_(w, alpha, phi, epsilon)\n",
    "\n",
    "# c. Find root using bisection() from our module modelproject_function.py (imported as my)\n",
    "res = my.bisection(function, a=0.01, b=0.2, tol=1e-10)\n",
    "\n",
    "print(f'Bisection solution: \\n The difference between labour supply and demand has the value {res[1]}'\n",
    "      f'\\n at the wage {res[0]:.3f} after {res[2]} iterations')\n",
    "\n",
    "# d. Find the corresponding labour \n",
    "L_eq = supply_func(res[0], alpha, phi, epsilon)\n",
    "print(f'The amount of labour in equilibrium is: {L_eq:.3f}')"
   ]
  },
  {
   "cell_type": "markdown",
   "metadata": {},
   "source": [
    "The result of the numerical optimisation is an equilibrium real wage rate of 0.114, which we also saw from Figure 2 and 3. The corresponding amount of labour is 0.864, hence it is lower than in the model with constant marginal product of labour. This is intuitive, since the firm now get less from one input of labour, it is not willing to pay as much in wage to the worker. Since the real wage rate is now a lot lower, the worker is not willing to work as much, but the labour supply actually doesn't fall that much compared to the other model. "
   ]
  },
  {
   "cell_type": "markdown",
   "metadata": {},
   "source": [
    "<br>\n",
    "\n",
    "## Results across Parametrisations\n",
    "\n",
    "We will now further analyse the model with decreasing marginal product of labour by varying the parameters of the model and examine how this changes the equilibrium of the model. We will find the numerical solution to the model using our `bisection()` function, which is in our module `modelproject_functions.py`. \n",
    "\n",
    "\n",
    "After going through how the different parameters affect the equilibrium, we have made an interactive figure, so you can change the parametrisation yourself and explore the model. "
   ]
  },
  {
   "cell_type": "markdown",
   "metadata": {},
   "source": [
    "### Changing the Input Share of Labour, $1-\\alpha$"
   ]
  },
  {
   "cell_type": "markdown",
   "metadata": {},
   "source": [
    "Below, we vary the input share of labour, $1-\\alpha$, from 0 to 1, and calculate the real wage rate in equilibrium. "
   ]
  },
  {
   "cell_type": "code",
   "execution_count": 83,
   "metadata": {
    "scrolled": false
   },
   "outputs": [
    {
     "data": {
      "image/png": "[encoded data removed]",
      "text/plain": [
       "<Figure size 432x288 with 1 Axes>"
      ]
     },
     "metadata": {
      "needs_background": "light"
     },
     "output_type": "display_data"
    }
   ],
   "source": [
    "# a. Define values to loop over\n",
    "alph = np.arange(0, 1, 0.01)\n",
    "\n",
    "# b. Specify other parameter values\n",
    "epsilon = 0.1\n",
    "phi = 0.5\n",
    "\n",
    "# c. Find equilibrium wage for different alphas in loop using bisection() from modelproject_function.py (imported as my)\n",
    "w_eq = []\n",
    "for a in alph:\n",
    "    function = lambda w: func_(w, a, phi, epsilon)\n",
    "    res = my.bisection(function,  a=0.0001, b=100, tol=1e-10)\n",
    "    w_eq.append(res[0])\n",
    "\n",
    "# d. Plot the equilibrium wage as a function of epsilon   \n",
    "input_share = [1 - a for a in alph]\n",
    "plt.plot(input_share, w_eq)\n",
    "plt.xlabel(r\"Input share of labour, $1 - \\alpha$\")\n",
    "plt.ylabel(\"Equilibrium real wage rate, $w$\")\n",
    "plt.title(\"Figure 4 Equilibrium Wage and Input Share \\n\" r\"of Labour, $1 - \\alpha$\");"
   ]
  },
  {
   "cell_type": "markdown",
   "metadata": {},
   "source": [
    "From Figure 4 above, wee see that the higher the input share of labour, the higher is the real wage rate in equilibrium. The input share, $1-\\alpha$, captures the degree to which the marginal product of labour is increasing, i.e. how important labour is in the production process. We see that the more important labour is, the more the firm is willing to pay for it. "
   ]
  },
  {
   "cell_type": "markdown",
   "metadata": {},
   "source": [
    "### Changing the Scale of Disutility of Labour, $\\phi$"
   ]
  },
  {
   "cell_type": "markdown",
   "metadata": {},
   "source": [
    "Below, we vary the scale of the disutility of labour, $\\phi$, from 0.1 to 10, and calculate the real wage rate and the supply of labour in equilibrium. "
   ]
  },
  {
   "cell_type": "code",
   "execution_count": 73,
   "metadata": {},
   "outputs": [
    {
     "data": {
      "image/png": "[encoded data removed]",
      "text/plain": [
       "<Figure size 432x288 with 1 Axes>"
      ]
     },
     "metadata": {
      "needs_background": "light"
     },
     "output_type": "display_data"
    }
   ],
   "source": [
    "# a. Define values to loop over\n",
    "ph = np.arange(0.1, 10, 0.01)\n",
    "\n",
    "# b. Specify other parameter values\n",
    "epsilon = 0.1\n",
    "alpha = 0.9\n",
    "\n",
    "# c. Find equilibrium wage for different phis in loop using bisection() from modelproject_function.py (imported as my)\n",
    "w_eq = []\n",
    "for p in ph:\n",
    "    function = lambda w: func_(w, alpha, p, epsilon)\n",
    "    res = my.bisection(function, a=0.0001, b=100, tol=1e-10)\n",
    "    w_eq.append(res[0])\n",
    "\n",
    "# d. Plot the equilibrium wage as a function of epsilon \n",
    "plt.plot(ph, w_eq)\n",
    "plt.xlabel(\"$\\phi$\")\n",
    "plt.ylabel(\"Equilibrium real wage rate, $w$\")\n",
    "plt.title(\"Figure 5 Equilibrium Wage and Disutility \\n of Labour, $\\phi$\");"
   ]
  },
  {
   "cell_type": "code",
   "execution_count": 101,
   "metadata": {},
   "outputs": [
    {
     "data": {
      "image/png": "[encoded data removed]",
      "text/plain": [
       "<Figure size 432x288 with 1 Axes>"
      ]
     },
     "metadata": {
      "needs_background": "light"
     },
     "output_type": "display_data"
    }
   ],
   "source": [
    "# a. Define values to loop over\n",
    "ph = np.arange(0.1, 10, 0.01)\n",
    "\n",
    "# b. Specify other parameter values\n",
    "epsilon = 0.1\n",
    "alpha = 0.9\n",
    "\n",
    "# c. Find equilibrium labour for different phis in loop using bisection() from modelproject_function.py (imported as my)\n",
    "L_eq = []\n",
    "for p in ph:\n",
    "    function = lambda w: func_(w, alpha, p, epsilon)\n",
    "    res = my.bisection(function,  a=0.01, b=10, tol=1e-10)\n",
    "    L_eq.append(supply_func(res[0], alpha, p, epsilon))\n",
    "\n",
    "# d. Plot the equilibrium wage as a function of epsilon    \n",
    "plt.plot(ph, L_eq)\n",
    "plt.xlabel(\"$\\phi$\")\n",
    "plt.ylabel(\"Equilibrium labour, $L$\")\n",
    "plt.title(\"Figure 6 Equilibrium Labour and Disutility of \\n of Labour, $\\phi$\");"
   ]
  },
  {
   "cell_type": "markdown",
   "metadata": {},
   "source": [
    "Here, we see that the higher the disutility of labour, the less does the individual work in equilibrium, even though the real wage rate increases in the disutility of labour. "
   ]
  },
  {
   "cell_type": "markdown",
   "metadata": {},
   "source": [
    "### Interactive Figure"
   ]
  },
  {
   "cell_type": "markdown",
   "metadata": {},
   "source": [
    "Run the code block below to be able to change $\\alpha$ and $\\phi$ and see how it changes the equlibrium of the model. "
   ]
  },
  {
   "cell_type": "code",
   "execution_count": 117,
   "metadata": {},
   "outputs": [
    {
     "data": {
      "application/vnd.jupyter.widget-view+json": {
       "model_id": "d8133144bded4b5f8b80afdb800457c0",
       "version_major": 2,
       "version_minor": 0
      },
      "text/plain": [
       "interactive(children=(FloatSlider(value=0.9, description='$\\\\alpha$', max=1.0, step=0.001), FloatSlider(value=…"
      ]
     },
     "metadata": {},
     "output_type": "display_data"
    }
   ],
   "source": [
    "# a. Defining figures to be functions of alpha and phi\n",
    "def interactive_func(alpha, phi):\n",
    "    \n",
    "    # i. Plot the labour supply and demand using make_plot() from modelproject_function.py (imported as my)\n",
    "    my.make_plot(L_supply, xs=np.arange(0.01, 1, 0.01), alpha_val=alpha, phi_val=phi, epsilon_val=0.1)\n",
    "    my.make_plot(L_demand, xs=np.arange(0.01, 1, 0.01), alpha_val=alpha, phi_val=phi, epsilon_val=0.1)\n",
    "    plt.title('Figure 7 Labour Market equlibrium')\n",
    "    plt.grid()\n",
    "    plt.xlabel('Real wage rate, $w$')\n",
    "    plt.ylabel('Labout supply, $L$')\n",
    "    \n",
    "    # ii. Find equilibrium using bisection() from modelproject_function.py (imported as my)\n",
    "    function = lambda w: func_(w, alpha, phi, epsilon=0.1)\n",
    "    \n",
    "    res = my.bisection(function, a=0.0001, b=100)\n",
    "    \n",
    "    if type(res) is not tuple:\n",
    "        print(f'No equilibrium with this parametrisation')\n",
    "    \n",
    "    elif type(res) is tuple:\n",
    "        eq_w = res[0]\n",
    "        eq_L = supply_func(res[0], alpha, phi, epsilon=0.1)\n",
    "    \n",
    "        # iii. Print the equilibirum wage and labour\n",
    "        print(f'Equilibrium real wage rate: {eq_w:.3f}')\n",
    "        print(f'Equilibrium labour supply: {eq_L:.3f}') \n",
    "    \n",
    "# b. Create interactive plot\n",
    "widgets.interact(interactive_func,\n",
    "    alpha=widgets.FloatSlider(description=r\"$\\alpha$\", min=0, max=1, step=0.001, value=0.9),\n",
    "    phi=widgets.FloatSlider(description=\"$\\phi$\", min=0.01, max=10, step=0.05, value=2),\n",
    ");"
   ]
  },
  {
   "cell_type": "markdown",
   "metadata": {},
   "source": [
    "## Conclusion"
   ]
  },
  {
   "cell_type": "markdown",
   "metadata": {},
   "source": [
    "In this project, we have looked at two versions of a simple model for the labour market. In both models, it was no problem to find the equilibrium analytically using `sympy`. In the first model with constant marginal product of labour, we found that the model was very easily solved, as the representative firm always would offer the same wage to the worker - one equal to the price. In the other model with decreasing marginal product of labour, finding the equilibrium was less simple, but still not too complicated. We solved the models numerically anyways and found the same as in the analytical solution. \n",
    "\n",
    "\n",
    "We coded an algorithm to find the equilibrium, a so-called root finder. Our algorithm used the bisection method, that Jeppe presented in lecture 10, which is a derivative-free method. We found the algorithm very effective and intuitive, when you get to write the code yourself. \n",
    "\n",
    "\n",
    "All in all, we have learned different methods to solve a model in Python, which we might one day use on a model, that cannot be solved by hand. "
   ]
  }
 ],
 "metadata": {
  "kernelspec": {
   "display_name": "Python 3",
   "language": "python",
   "name": "python3"
  },
  "language_info": {
   "codemirror_mode": {
    "name": "ipython",
    "version": 3
   },
   "file_extension": ".py",
   "mimetype": "text/x-python",
   "name": "python",
   "nbconvert_exporter": "python",
   "pygments_lexer": "ipython3",
   "version": "3.7.4"
  }
 },
 "nbformat": 4,
 "nbformat_minor": 2
}
